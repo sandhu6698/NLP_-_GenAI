{
 "cells": [
  {
   "cell_type": "code",
   "execution_count": 1,
   "metadata": {},
   "outputs": [],
   "source": [
    "# TF (Term Frequency) is a measure of how frequently a term appears in a document. It is calculated by dividing the number of occurrences of a term in a document by the total number of terms in that document.\n",
    "\n",
    "# TF = (Number of occurrences of a term in a document) / (Total number of terms in the document)\n",
    "\n",
    "# IDF (Inverse Document Frequency) is a measure of how important a term is in a collection of documents. It is calculated by dividing the total number of documents in the collection by the number of documents that contain the term, and then taking the logarithm of that ratio.\n",
    "\n",
    "# IDF = log((Total number of documents) / (Number of documents containing the term))\n",
    "\n",
    "# These formulas are commonly used in Natural Language Processing (NLP) to quantify the importance of terms in a document or a collection of documents."
   ]
  },
  {
   "cell_type": "code",
   "execution_count": null,
   "metadata": {},
   "outputs": [],
   "source": []
  }
 ],
 "metadata": {
  "kernelspec": {
   "display_name": "Python 3",
   "language": "python",
   "name": "python3"
  },
  "language_info": {
   "codemirror_mode": {
    "name": "ipython",
    "version": 3
   },
   "file_extension": ".py",
   "mimetype": "text/x-python",
   "name": "python",
   "nbconvert_exporter": "python",
   "pygments_lexer": "ipython3",
   "version": "3.11.0"
  }
 },
 "nbformat": 4,
 "nbformat_minor": 2
}
